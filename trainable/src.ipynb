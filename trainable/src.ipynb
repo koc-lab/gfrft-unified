{
 "cells": [
  {
   "cell_type": "markdown",
   "metadata": {},
   "source": [
    "# Trainable GFRFT: Transform Learning"
   ]
  },
  {
   "cell_type": "code",
   "execution_count": 1,
   "metadata": {},
   "outputs": [],
   "source": [
    "import torch as th\n",
    "from torch_gfrft import EigvalSortStrategy\n",
    "from torch_gfrft.gfrft import GFRFT\n",
    "from torch_gfrft.gft import GFT\n",
    "from transform_learning import experiment, generate_adjecency\n",
    "from utils import seed_everything"
   ]
  },
  {
   "cell_type": "code",
   "execution_count": 2,
   "metadata": {},
   "outputs": [],
   "source": [
    "SEED = 0\n",
    "NUM_NODES = 100\n",
    "TIME_LENGTH = 200\n",
    "EIGVAL_SORT_STRATEGY = EigvalSortStrategy.TOTAL_VARIATION\n",
    "SYMMETRIC = False\n",
    "SELF_LOOPS = False\n",
    "DEVICE = th.device(\"cuda\" if th.cuda.is_available() else \"cpu\")\n",
    "\n",
    "ORIGINAL_ORDER = 0.35\n",
    "INITIAL_ORDERS = [0.0, 1.0]\n",
    "LEARNING_RATE = 1e-3\n",
    "EPOCHS = 2000\n",
    "DISPLAY_EPOCHS = [1, 500, 1000, 1500, 2000]\n",
    "SHOW_SUM_DURING_TRAINING = True"
   ]
  },
  {
   "cell_type": "markdown",
   "metadata": {},
   "source": [
    "## Initialize Random Graph and JTV Signal with GFRFT"
   ]
  },
  {
   "cell_type": "code",
   "execution_count": 3,
   "metadata": {},
   "outputs": [],
   "source": [
    "seed_everything(SEED)\n",
    "jtv_signal = th.rand(NUM_NODES, TIME_LENGTH, device=DEVICE)\n",
    "adjacency = generate_adjecency(NUM_NODES, DEVICE, SYMMETRIC, SELF_LOOPS)\n",
    "gft = GFT(adjacency, EIGVAL_SORT_STRATEGY)\n",
    "gfrft = GFRFT(gft.gft_mtx)"
   ]
  },
  {
   "cell_type": "markdown",
   "metadata": {},
   "source": [
    "## Experiment\n",
    "\n",
    "Transform the original signals using the GFRFT with fractional order `original_order`. By using the transformed signals as ground truth and MSE loss function, learn the multi-GFRFT layer network's fractional orders."
   ]
  },
  {
   "cell_type": "code",
   "execution_count": 4,
   "metadata": {},
   "outputs": [
    {
     "name": "stdout",
     "output_type": "stream",
     "text": [
      "Sequential(\n",
      "  (0): GFRFT(order=0.0, size=100, dim=0)\n",
      "  (1): GFRFT(order=1.0, size=100, dim=0)\n",
      ")\n",
      "original order: 0.3500\n",
      "learning rate: 0.001\n",
      "initial orders: a1 =  0.0000 | a2 =  1.0000 | sum =  1.0000\n",
      "-----------------------------------------------------------\n",
      "Epoch    1 | Loss 7.80e+00 | a1 =  0.0000 | a2 =  1.0000 | sum =  1.0000\n",
      "Epoch  500 | Loss 3.13e-01 | a1 = -0.2486 | a2 =  0.7514 | sum =  0.5028\n",
      "Epoch 1000 | Loss 1.48e-03 | a1 = -0.3198 | a2 =  0.6802 | sum =  0.3605\n",
      "Epoch 1500 | Loss 4.00e-07 | a1 = -0.3249 | a2 =  0.6751 | sum =  0.3502\n",
      "Epoch 2000 | Loss 6.68e-10 | a1 = -0.3250 | a2 =  0.6750 | sum =  0.3500\n",
      "-----------------------------------------------------------\n",
      "final orders: a1 = -0.3250 | a2 =  0.6750\n",
      "original order: 0.3500, final order sum: 0.3500\n"
     ]
    }
   ],
   "source": [
    "seed_everything(SEED)\n",
    "experiment(\n",
    "    gfrft=gfrft,\n",
    "    original_signals=jtv_signal,\n",
    "    original_order=ORIGINAL_ORDER,\n",
    "    initial_orders=INITIAL_ORDERS,\n",
    "    lr=LEARNING_RATE,\n",
    "    epochs=EPOCHS,\n",
    "    display_epochs=DISPLAY_EPOCHS,\n",
    "    show_sum_during_training=SHOW_SUM_DURING_TRAINING,\n",
    "    dim=0,\n",
    ")"
   ]
  }
 ],
 "metadata": {
  "kernelspec": {
   "display_name": ".venv",
   "language": "python",
   "name": "python3"
  },
  "language_info": {
   "codemirror_mode": {
    "name": "ipython",
    "version": 3
   },
   "file_extension": ".py",
   "mimetype": "text/x-python",
   "name": "python",
   "nbconvert_exporter": "python",
   "pygments_lexer": "ipython3",
   "version": "3.11.9"
  }
 },
 "nbformat": 4,
 "nbformat_minor": 2
}
