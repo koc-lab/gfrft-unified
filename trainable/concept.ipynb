{
 "cells": [
  {
   "cell_type": "code",
   "execution_count": null,
   "metadata": {},
   "outputs": [],
   "source": [
    "from pathlib import Path\n",
    "\n",
    "import torch as th\n",
    "from conceptual import experiment, generate_bandlimited_experiment_data\n",
    "from torch_gfrft import EigvalSortStrategy\n",
    "from torch_gfrft.gfrft import GFRFT\n",
    "from torch_gfrft.gft import GFT\n",
    "from utils import (\n",
    "    init_knn_from_mat,\n",
    "    mse_loss,\n",
    "    seed_everything,\n",
    "    snr,\n",
    ")"
   ]
  },
  {
   "cell_type": "markdown",
   "metadata": {},
   "source": [
    "## Graph & JTV Signal Settings"
   ]
  },
  {
   "cell_type": "code",
   "execution_count": null,
   "metadata": {},
   "outputs": [],
   "source": [
    "SEED = 0\n",
    "NODE_DIM = 0\n",
    "KNN_COUNT = 10\n",
    "KNN_SIGMA = None\n",
    "MAX_NODE_COUNT = 100\n",
    "MAX_TIME_LENGTH = 120\n",
    "EIGVAL_SORT_STRATEGY = EigvalSortStrategy.TOTAL_VARIATION\n",
    "GRAPH_VERBOSE = True\n",
    "DEVICE = th.device(\"cuda\" if th.cuda.is_available() else \"cpu\")"
   ]
  },
  {
   "cell_type": "code",
   "execution_count": null,
   "metadata": {},
   "outputs": [],
   "source": [
    "seed_everything(SEED)\n",
    "datasets_path = Path.cwd().parent.joinpath(\"data\", \"tv-graph-datasets\").absolute()\n",
    "curr_dataset_path = datasets_path.joinpath(\"sea-surface-temperature.mat\")\n",
    "graph, adjacency, jtv_signal = init_knn_from_mat(\n",
    "    curr_dataset_path,\n",
    "    knn_count=KNN_COUNT,\n",
    "    knn_sigma=KNN_SIGMA,\n",
    "    max_node_count=MAX_NODE_COUNT,\n",
    "    max_time_length=MAX_TIME_LENGTH,\n",
    "    device=DEVICE,\n",
    "    verbose=GRAPH_VERBOSE,\n",
    ")\n",
    "gft = GFT(adjacency, EIGVAL_SORT_STRATEGY)\n",
    "gfrft = GFRFT(gft.gft_mtx)"
   ]
  },
  {
   "cell_type": "code",
   "execution_count": null,
   "metadata": {},
   "outputs": [],
   "source": [
    "def display_jtv_signal(graph, jtv_signal, time_instances: list[int]) -> None:\n",
    "    limits = [jtv_signal.min().floor().item(), jtv_signal.max().ceil().item()]\n",
    "    for t in set(time_instances):\n",
    "        gsignal = jtv_signal[..., t]\n",
    "        graph.plot_signal(gsignal.cpu().numpy(), limits=limits)\n",
    "\n",
    "\n",
    "if False:\n",
    "    display_jtv_signal(graph, jtv_signal, [0, 5, 10, 15])"
   ]
  },
  {
   "cell_type": "code",
   "execution_count": null,
   "metadata": {},
   "outputs": [],
   "source": [
    "def print_pre_info(bl_signal: th.Tensor, bl_noise: th.Tensor) -> None:\n",
    "    bl_noisy_signal = bl_signal + bl_noise\n",
    "    print(f\"SNR: {snr(bl_signal, bl_noise):.2f}\")\n",
    "    print(f\"MSE: {mse_loss(bl_signal, bl_noisy_signal):.2f}\")\n",
    "\n",
    "\n",
    "def print_after_info(\n",
    "    model: th.nn.Module, bl_signal: th.Tensor, bl_noise: th.Tensor\n",
    ") -> None:\n",
    "    bl_noisy_signal = bl_signal + bl_noise\n",
    "    with th.no_grad():\n",
    "        estimated_signal = model(bl_noisy_signal)\n",
    "\n",
    "    initial_mse = mse_loss(bl_signal, bl_noisy_signal)\n",
    "    estimated_mse = mse_loss(bl_signal, estimated_signal)\n",
    "\n",
    "    initial_snr = snr(bl_signal, bl_noisy_signal - bl_signal)\n",
    "    estimated_snr = snr(bl_signal, estimated_signal - bl_signal)\n",
    "\n",
    "    print(f\"Initial MSE: {initial_mse:.2f}, Estimated MSE: {estimated_mse:.2f}\")\n",
    "    print(f\"Initial SNR: {initial_snr:.2f}, Estimated SNR: {estimated_snr:.2f}\")"
   ]
  },
  {
   "cell_type": "code",
   "execution_count": null,
   "metadata": {},
   "outputs": [],
   "source": [
    "# Data generation\n",
    "ORIGINAL_ORDER = 0.35\n",
    "STOPBAND_COUNT = 30\n",
    "OVERLAP_COUNT = 5\n",
    "NOISE_MEAN = 0.0\n",
    "NOISE_SIGMA = 10.0\n",
    "\n",
    "# Model\n",
    "INITIAL_ORDERS = [1.0]\n",
    "CUTOFF_COUNTS = [STOPBAND_COUNT]\n",
    "LEARNING_RATE = 5e-2\n",
    "EPOCHS = 2000\n",
    "TRAINABLE_TRANSFORM = False\n",
    "TRAINABLE_FILTER = True\n",
    "\n",
    "bl_signal, bl_noise = generate_bandlimited_experiment_data(\n",
    "    gfrft=gfrft,\n",
    "    signal=jtv_signal,\n",
    "    order=ORIGINAL_ORDER,\n",
    "    stopband_count=STOPBAND_COUNT,\n",
    "    overlap=OVERLAP_COUNT,\n",
    "    mean=NOISE_MEAN,\n",
    "    sigma=NOISE_SIGMA,\n",
    ")\n",
    "\n",
    "print_pre_info(bl_signal, bl_noise)\n",
    "model = experiment(\n",
    "    gfrft=gfrft,\n",
    "    jtv_signal=bl_signal,\n",
    "    jtv_noise=bl_noise,\n",
    "    initial_orders=INITIAL_ORDERS,\n",
    "    cutoff_counts=CUTOFF_COUNTS,\n",
    "    lr=LEARNING_RATE,\n",
    "    epochs=EPOCHS,\n",
    "    display_epochs=list(range(0, EPOCHS + 1, EPOCHS // 10)),\n",
    "    trainable_transform=TRAINABLE_TRANSFORM,\n",
    "    trainable_filter=TRAINABLE_FILTER,\n",
    "    seed=SEED,\n",
    ")\n",
    "print(model)\n",
    "print_after_info(model, bl_signal, bl_noise)"
   ]
  }
 ],
 "metadata": {
  "kernelspec": {
   "display_name": ".venv",
   "language": "python",
   "name": "python3"
  },
  "language_info": {
   "codemirror_mode": {
    "name": "ipython",
    "version": 3
   },
   "file_extension": ".py",
   "mimetype": "text/x-python",
   "name": "python",
   "nbconvert_exporter": "python",
   "pygments_lexer": "ipython3",
   "version": "3.11.8"
  }
 },
 "nbformat": 4,
 "nbformat_minor": 2
}
