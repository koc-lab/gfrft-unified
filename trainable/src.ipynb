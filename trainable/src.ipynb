{
 "cells": [
  {
   "cell_type": "code",
   "execution_count": 1,
   "metadata": {},
   "outputs": [],
   "source": [
    "import torch as th\n",
    "import torch.nn as nn\n",
    "from torch_gfrft import EigvalSortStrategy\n",
    "from torch_gfrft.gfrft import GFRFT\n",
    "from torch_gfrft.gft import GFT\n",
    "from torch_gfrft.layer import GFRFTLayer\n",
    "\n",
    "NUM_NODES = 100\n",
    "TIME_LENGTH = 200\n",
    "if th.cuda.is_available():\n",
    "    DEVICE = th.device('cuda')\n",
    "else:\n",
    "    DEVICE = th.device('cpu')"
   ]
  },
  {
   "cell_type": "code",
   "execution_count": 2,
   "metadata": {},
   "outputs": [],
   "source": [
    "A = th.rand(NUM_NODES, NUM_NODES, device=DEVICE)\n",
    "# A = A + A.T\n",
    "A = A - th.diag(th.diag(A))"
   ]
  },
  {
   "cell_type": "code",
   "execution_count": 3,
   "metadata": {},
   "outputs": [],
   "source": [
    "gft = GFT(A, EigvalSortStrategy.TOTAL_VARIATION)\n",
    "gfrft = GFRFT(gft.gft_mtx)"
   ]
  },
  {
   "cell_type": "code",
   "execution_count": 4,
   "metadata": {},
   "outputs": [],
   "source": [
    "original_order = 0.35\n",
    "th.manual_seed(0)\n",
    "X = th.randn(NUM_NODES, TIME_LENGTH, device=DEVICE)\n",
    "Y = gfrft.gfrft(X, original_order, dim=0)"
   ]
  },
  {
   "cell_type": "code",
   "execution_count": 10,
   "metadata": {},
   "outputs": [
    {
     "name": "stdout",
     "output_type": "stream",
     "text": [
      "Sequential(\n",
      "  (0): GFRFT(order=0.75, size=100, dim=0)\n",
      "  (1): GFRFT(order=0.25, size=100, dim=0)\n",
      ")\n",
      "Epoch    0 | Loss 80.8083 | a1 = 0.7500 | a2 = 0.2500\n",
      "Epoch  100 | Loss 61.5493 | a1 = 0.7024 | a2 = 0.2024\n",
      "Epoch  200 | Loss 48.6033 | a1 = 0.6607 | a2 = 0.1607\n",
      "Epoch  300 | Loss 39.2506 | a1 = 0.6232 | a2 = 0.1232\n",
      "Epoch  400 | Loss 31.6635 | a1 = 0.5879 | a2 = 0.0879\n",
      "Epoch  500 | Loss 24.7365 | a1 = 0.5530 | a2 = 0.0530\n",
      "Epoch  600 | Loss 17.8074 | a1 = 0.5169 | a2 = 0.0169\n",
      "Epoch  700 | Loss 10.5126 | a1 = 0.4790 | a2 = -0.0210\n",
      "Epoch  800 | Loss 2.7667 | a1 = 0.4392 | a2 = -0.0608\n",
      "Epoch  900 | Loss 0.0060 | a1 = 0.4250 | a2 = -0.0750\n",
      "Epoch 1000 | Loss 0.0065 | a1 = 0.4250 | a2 = -0.0750\n",
      "Epoch 1100 | Loss 0.0080 | a1 = 0.4250 | a2 = -0.0750\n",
      "Epoch 1200 | Loss 0.0111 | a1 = 0.4249 | a2 = -0.0751\n",
      "Epoch 1300 | Loss 0.0059 | a1 = 0.4250 | a2 = -0.0750\n",
      "Epoch 1400 | Loss 0.0079 | a1 = 0.4250 | a2 = -0.0750\n",
      "Epoch 1500 | Loss 0.0118 | a1 = 0.4249 | a2 = -0.0751\n",
      "Epoch 1600 | Loss 0.0060 | a1 = 0.4250 | a2 = -0.0750\n",
      "Epoch 1700 | Loss 0.0080 | a1 = 0.4250 | a2 = -0.0750\n",
      "Epoch 1800 | Loss 0.0121 | a1 = 0.4249 | a2 = -0.0751\n",
      "Epoch 1900 | Loss 0.0061 | a1 = 0.4250 | a2 = -0.0750\n",
      "Epoch 2000 | Loss 0.0082 | a1 = 0.4250 | a2 = -0.0750\n",
      "Original a: 0.3500, Final a1: 0.4251 | Final a2: -0.0749\n",
      "Final sum: 0.3501\n"
     ]
    }
   ],
   "source": [
    "def mse_loss(predictions: th.Tensor, targets: th.Tensor) -> th.Tensor:\n",
    "    return th.norm(predictions - targets, p='fro', dim=0).mean()\n",
    "\n",
    "model = nn.Sequential(\n",
    "    GFRFTLayer(gfrft, 0.75, dim=0),\n",
    "    GFRFTLayer(gfrft, 0.25, dim=0),\n",
    ")\n",
    "print(model)\n",
    "optim = th.optim.Adam(model.parameters(), lr=5e-4)\n",
    "epochs = 2000\n",
    "\n",
    "th.manual_seed(0)\n",
    "for epoch in range(epochs + 1):\n",
    "    optim.zero_grad()\n",
    "    output = mse_loss(model(X), Y)\n",
    "    if epoch % 100 == 0:\n",
    "        print(f\"Epoch {epoch:4d} | Loss {output.item():<4.4f} | a1 = {model[0].order.item():.4f} | a2 = {model[1].order.item():.4f}\")\n",
    "    output.backward()\n",
    "    optim.step()\n",
    "print(f\"Original a: {original_order:.4f}, Final a1: {model[0].order.item():.4f} | Final a2: {model[1].order.item():.4f}\")\n",
    "print(f\"Final sum: {model[0].order.item() + model[1].order.item():.4f}\")"
   ]
  }
 ],
 "metadata": {
  "kernelspec": {
   "display_name": ".venv",
   "language": "python",
   "name": "python3"
  },
  "language_info": {
   "codemirror_mode": {
    "name": "ipython",
    "version": 3
   },
   "file_extension": ".py",
   "mimetype": "text/x-python",
   "name": "python",
   "nbconvert_exporter": "python",
   "pygments_lexer": "ipython3",
   "version": "3.11.8"
  }
 },
 "nbformat": 4,
 "nbformat_minor": 2
}
